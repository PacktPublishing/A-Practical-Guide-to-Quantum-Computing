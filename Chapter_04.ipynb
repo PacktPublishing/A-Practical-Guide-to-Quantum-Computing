{
 "cells": [
  {
   "cell_type": "code",
   "execution_count": null,
   "id": "7e52193e-9933-4dff-89e8-01d313427c76",
   "metadata": {},
   "outputs": [],
   "source": [
    "pip install qiskit==2.1"
   ]
  },
  {
   "cell_type": "code",
   "execution_count": null,
   "id": "cf18441e-f294-491b-b70d-1a27404a6dab",
   "metadata": {},
   "outputs": [],
   "source": [
    "pip install qiskit_aer==0.17"
   ]
  },
  {
   "cell_type": "code",
   "execution_count": null,
   "id": "4816daae-758d-4e7d-9e1b-b08b8911c1a7",
   "metadata": {},
   "outputs": [],
   "source": [
    "pip install qiskit_ibm_runtime==0.40"
   ]
  },
  {
   "cell_type": "code",
   "execution_count": null,
   "id": "d1007af8-c243-4656-9504-ae4443fcfed7",
   "metadata": {},
   "outputs": [],
   "source": [
    "pip install numpy==2.2"
   ]
  },
  {
   "cell_type": "code",
   "execution_count": null,
   "id": "44a318c0-1590-41f2-9767-04a5be42b16b",
   "metadata": {},
   "outputs": [],
   "source": [
    "pip install pylatexenc==2.10"
   ]
  },
  {
   "cell_type": "code",
   "execution_count": null,
   "id": "7fd375cd-db1d-43d1-994c-1c42cc2af07e",
   "metadata": {},
   "outputs": [],
   "source": [
    "pip install matplotlib==3.10"
   ]
  },
  {
   "cell_type": "markdown",
   "id": "fd849b13-80eb-4096-ac2a-0aa3cc03af72",
   "metadata": {},
   "source": [
    "# Chapter 4. Coding One-Qubit Protocols in Qiskit"
   ]
  },
  {
   "cell_type": "markdown",
   "id": "02020bed-f9ef-4828-89e3-71ffd0f8c8eb",
   "metadata": {},
   "source": [
    "## 4.2. How to work with one qubit in Qiskit"
   ]
  },
  {
   "cell_type": "code",
   "execution_count": 1,
   "id": "66930a0b-875b-4ed3-9551-2bfd1b2894b9",
   "metadata": {},
   "outputs": [],
   "source": [
    "from qiskit import QuantumCircuit"
   ]
  },
  {
   "cell_type": "code",
   "execution_count": 2,
   "id": "4060592a-5bd1-412d-8dbb-e0e094a98642",
   "metadata": {},
   "outputs": [],
   "source": [
    "circuit = QuantumCircuit(1) # We specify \"1\" for one qubit."
   ]
  },
  {
   "cell_type": "code",
   "execution_count": 3,
   "id": "242852b7-ff4c-44bb-b0fd-f4affb44176d",
   "metadata": {},
   "outputs": [
    {
     "data": {
      "text/plain": [
       "<qiskit.circuit.instructionset.InstructionSet at 0x7f30423ba2c0>"
      ]
     },
     "execution_count": 3,
     "metadata": {},
     "output_type": "execute_result"
    }
   ],
   "source": [
    "circuit.x(0) # Apply an X gate on the fist qubit (0).\n",
    "circuit.h(0) # Apply an H gate."
   ]
  },
  {
   "cell_type": "code",
   "execution_count": 4,
   "id": "767039cc-36d1-4eec-88cb-bb6027dfe8db",
   "metadata": {},
   "outputs": [
    {
     "data": {
      "image/png": "[encoded data removed]",
      "text/plain": [
       "<Figure size 269.064x117.056 with 1 Axes>"
      ]
     },
     "execution_count": 4,
     "metadata": {},
     "output_type": "execute_result"
    }
   ],
   "source": [
    "circuit.draw(\"mpl\")"
   ]
  },
  {
   "cell_type": "code",
   "execution_count": 5,
   "id": "0476a8eb-a2c4-402d-be6c-bee510f47ef5",
   "metadata": {},
   "outputs": [],
   "source": [
    "drawing = circuit.draw(\"mpl\")\n",
    "#drawing.savefig(\"circuit.pdf\") # Uncomment to save the file!"
   ]
  },
  {
   "cell_type": "code",
   "execution_count": 6,
   "id": "d0db7f59-56c6-4fc8-923b-c3a442f6e008",
   "metadata": {},
   "outputs": [
    {
     "data": {
      "image/png": "[encoded data removed]",
      "text/plain": [
       "<Figure size 185.453x117.056 with 1 Axes>"
      ]
     },
     "execution_count": 6,
     "metadata": {},
     "output_type": "execute_result"
    }
   ],
   "source": [
    "# Apply the gate P(2) on a one-qubit circuit.\n",
    "circuit = QuantumCircuit(1)\n",
    "circuit.p(2,0)\n",
    "circuit.draw(\"mpl\")"
   ]
  },
  {
   "cell_type": "code",
   "execution_count": 7,
   "id": "73708204-db6c-44bd-a3ec-f7b0ee210d0a",
   "metadata": {},
   "outputs": [],
   "source": [
    "def phased_circuit(phase):\n",
    "    circuit = QuantumCircuit(1)\n",
    "    if phase < 1:\n",
    "        circuit.p(phase, 0)\n",
    "    else:\n",
    "        circuit.h(0)\n",
    "    return circuit"
   ]
  },
  {
   "cell_type": "code",
   "execution_count": 8,
   "id": "64a9aadf-6331-48a7-a102-c6d380165b23",
   "metadata": {},
   "outputs": [
    {
     "data": {
      "image/png": "[encoded data removed]",
      "text/plain": [
       "<Figure size 185.453x117.056 with 1 Axes>"
      ]
     },
     "execution_count": 8,
     "metadata": {},
     "output_type": "execute_result"
    }
   ],
   "source": [
    "phased_circuit(0.4).draw(\"mpl\")"
   ]
  },
  {
   "cell_type": "code",
   "execution_count": 9,
   "id": "9a989d83-ec86-4eeb-be6e-b8792888f488",
   "metadata": {},
   "outputs": [
    {
     "data": {
      "image/png": "[encoded data removed]",
      "text/plain": [
       "<Figure size 185.453x117.056 with 1 Axes>"
      ]
     },
     "execution_count": 9,
     "metadata": {},
     "output_type": "execute_result"
    }
   ],
   "source": [
    "phased_circuit(1.1).draw(\"mpl\")"
   ]
  },
  {
   "cell_type": "markdown",
   "id": "63e46c18-cc59-4c97-8111-19c59ba3cccd",
   "metadata": {},
   "source": [
    "### Simulating the evolution of a state"
   ]
  },
  {
   "cell_type": "code",
   "execution_count": 10,
   "id": "e1a4af51-254a-4531-a27a-af325152cb2b",
   "metadata": {},
   "outputs": [
    {
     "data": {
      "text/plain": [
       "<qiskit.circuit.instructionset.InstructionSet at 0x7f3041013880>"
      ]
     },
     "execution_count": 10,
     "metadata": {},
     "output_type": "execute_result"
    }
   ],
   "source": [
    "circuit = QuantumCircuit(1)\n",
    "circuit.x(0)\n",
    "circuit.h(0)"
   ]
  },
  {
   "cell_type": "code",
   "execution_count": 11,
   "id": "6f4a193a-5606-4ea5-9f85-26d7d58690d6",
   "metadata": {},
   "outputs": [
    {
     "name": "stdout",
     "output_type": "stream",
     "text": [
      "Statevector([ 0.70710678+0.j, -0.70710678+0.j],\n",
      "            dims=(2,))\n"
     ]
    }
   ],
   "source": [
    "from qiskit.quantum_info import Statevector\n",
    "\n",
    "state = Statevector(circuit)\n",
    "print(state)"
   ]
  },
  {
   "cell_type": "markdown",
   "id": "83d0c3e9-44ec-4e7f-b278-a9dd2b397d5e",
   "metadata": {},
   "source": [
    "### Getting samples from a simulator"
   ]
  },
  {
   "cell_type": "code",
   "execution_count": 12,
   "id": "358ed0b5-e206-4138-8468-90db4e757145",
   "metadata": {},
   "outputs": [
    {
     "data": {
      "image/png": "[encoded data removed]",
      "text/plain": [
       "<Figure size 496.776x200.667 with 1 Axes>"
      ]
     },
     "execution_count": 12,
     "metadata": {},
     "output_type": "execute_result"
    }
   ],
   "source": [
    "circuit.measure_all()\n",
    "circuit.draw(\"mpl\")"
   ]
  },
  {
   "cell_type": "code",
   "execution_count": 13,
   "id": "158e8728-7f24-42d1-9064-d7ce19ae0db9",
   "metadata": {},
   "outputs": [],
   "source": [
    "from qiskit_aer import AerSimulator\n",
    "backend = AerSimulator(seed_simulator = 18620123)"
   ]
  },
  {
   "cell_type": "code",
   "execution_count": 14,
   "id": "e1ae1ee1-69d9-4a2d-b208-9612cfc874c5",
   "metadata": {},
   "outputs": [],
   "source": [
    "from qiskit_ibm_runtime import SamplerV2 as Sampler\n",
    "sampler = Sampler(backend)"
   ]
  },
  {
   "cell_type": "code",
   "execution_count": 15,
   "id": "1ad319d7-fc6d-4e03-8e58-ff8341cea972",
   "metadata": {},
   "outputs": [],
   "source": [
    "job = sampler.run([circuit], shots = 8)\n",
    "result = job.result()[0].data.meas # Get the results!"
   ]
  },
  {
   "cell_type": "code",
   "execution_count": 16,
   "id": "93cd171f-63d3-48ee-9e10-d57dc591f561",
   "metadata": {},
   "outputs": [
    {
     "name": "stdout",
     "output_type": "stream",
     "text": [
      "{'0': 5, '1': 3}\n"
     ]
    }
   ],
   "source": [
    "print(result.get_counts())"
   ]
  },
  {
   "cell_type": "code",
   "execution_count": 17,
   "id": "ddece332-adbf-4530-86f4-d8d70cc89f21",
   "metadata": {},
   "outputs": [
    {
     "name": "stdout",
     "output_type": "stream",
     "text": [
      "['0', '1', '0', '1', '0', '1', '0', '0']\n"
     ]
    }
   ],
   "source": [
    "print(result.get_bitstrings())"
   ]
  },
  {
   "cell_type": "code",
   "execution_count": 18,
   "id": "f7986f69-c431-4739-971e-4b26e2b1357e",
   "metadata": {},
   "outputs": [
    {
     "name": "stdout",
     "output_type": "stream",
     "text": [
      "[[0]\n",
      " [1]\n",
      " [0]\n",
      " [1]\n",
      " [0]\n",
      " [1]\n",
      " [0]\n",
      " [0]]\n"
     ]
    }
   ],
   "source": [
    "print(result.array)"
   ]
  },
  {
   "cell_type": "markdown",
   "id": "61f2bcb1-071e-4bbd-b639-ee5993608f7d",
   "metadata": {},
   "source": [
    "### Getting results from real quantum hardware"
   ]
  },
  {
   "cell_type": "code",
   "execution_count": null,
   "id": "36cde574-c7fd-4704-9456-3863dff4fcc7",
   "metadata": {},
   "outputs": [],
   "source": [
    "from qiskit_ibm_runtime import QiskitRuntimeService\n",
    "token = \"YOUR API KEY GOES HERE\"\n",
    "service = QiskitRuntimeService(token = token, channel = \"ibm_quantum_platform\")"
   ]
  },
  {
   "cell_type": "code",
   "execution_count": null,
   "id": "c518ff35-1b0f-42c1-a10b-83902fbb377d",
   "metadata": {},
   "outputs": [],
   "source": [
    "# Use the code below to save your account on your computer.\n",
    "# QiskitRuntimeService.save_account(token = token, channel = \"ibm_quantum_platform\")"
   ]
  },
  {
   "cell_type": "code",
   "execution_count": 21,
   "id": "f8909a85-8fbb-4fbc-8483-10ed32bc3750",
   "metadata": {},
   "outputs": [
    {
     "name": "stdout",
     "output_type": "stream",
     "text": [
      "<IBMBackend('ibm_sherbrooke')>\n"
     ]
    }
   ],
   "source": [
    "backend = service.least_busy(simulator = False, operational = True)\n",
    "print(backend)"
   ]
  },
  {
   "cell_type": "code",
   "execution_count": 22,
   "id": "b25f8a78-1a9c-47cf-a09c-23d5a18b723b",
   "metadata": {},
   "outputs": [
    {
     "data": {
      "image/png": "[encoded data removed]",
      "text/plain": [
       "<Figure size 590.204x200.667 with 1 Axes>"
      ]
     },
     "execution_count": 22,
     "metadata": {},
     "output_type": "execute_result"
    }
   ],
   "source": [
    "from qiskit.transpiler.preset_passmanagers import generate_preset_pass_manager\n",
    "pm = generate_preset_pass_manager(backend=backend, optimization_level=1)\n",
    "transpiled = pm.run(circuit) \n",
    "transpiled.draw(\"mpl\", idle_wires = False)"
   ]
  },
  {
   "cell_type": "code",
   "execution_count": 23,
   "id": "19e138a5-4057-4b1e-b997-6112d1fd700c",
   "metadata": {},
   "outputs": [
    {
     "data": {
      "image/png": "[encoded data removed]",
      "text/plain": [
       "<Figure size 580.387x200.667 with 1 Axes>"
      ]
     },
     "execution_count": 23,
     "metadata": {},
     "output_type": "execute_result"
    }
   ],
   "source": [
    "circuit_barrier = QuantumCircuit(1)\n",
    "circuit_barrier.x(0)\n",
    "circuit_barrier.barrier()\n",
    "circuit_barrier.h(0)\n",
    "circuit_barrier.measure_all()\n",
    "circuit_barrier.draw(\"mpl\")"
   ]
  },
  {
   "cell_type": "code",
   "execution_count": 24,
   "id": "da553d3a-b6ce-4c4e-bdb6-293558868562",
   "metadata": {},
   "outputs": [
    {
     "data": {
      "image/png": "[encoded data removed]",
      "text/plain": [
       "<Figure size 757.426x200.667 with 1 Axes>"
      ]
     },
     "execution_count": 24,
     "metadata": {},
     "output_type": "execute_result"
    }
   ],
   "source": [
    "transpiled_barrier = pm.run(circuit_barrier) \n",
    "transpiled_barrier.draw(\"mpl\", idle_wires = False)"
   ]
  },
  {
   "cell_type": "code",
   "execution_count": 25,
   "id": "4b6ee40f-007f-40db-9f80-c311c90c9751",
   "metadata": {},
   "outputs": [
    {
     "name": "stdout",
     "output_type": "stream",
     "text": [
      "{'0': 535, '1': 489}\n"
     ]
    }
   ],
   "source": [
    "from qiskit_ibm_runtime import SamplerV2 as Sampler\n",
    "sampler = Sampler(mode=backend)\n",
    "job = sampler.run([transpiled], shots = 1024)\n",
    "result = job.result()[0].data.meas\n",
    "print(result.get_counts())"
   ]
  },
  {
   "cell_type": "markdown",
   "id": "55b5cb67-9f05-4f3d-a3c4-4f17a20d19c9",
   "metadata": {},
   "source": [
    "## 4.3. Implementing the BB84 protocol"
   ]
  },
  {
   "cell_type": "code",
   "execution_count": 26,
   "id": "425813d6-12cd-4a11-aa71-43ad9373c5b6",
   "metadata": {},
   "outputs": [],
   "source": [
    "import random\n",
    "random.seed(18620123)\n",
    "backend = AerSimulator(seed_simulator = 18620123)\n",
    "sampler = Sampler(backend)"
   ]
  },
  {
   "cell_type": "code",
   "execution_count": 27,
   "id": "11b4c131-6da9-46aa-b265-77cd7441fcc7",
   "metadata": {},
   "outputs": [],
   "source": [
    "# The key we want to send:\n",
    "alice_bits = [0,1,0,1,1,1,0,0,1,1,0]\n",
    "# A list for the bits that bob will receive:\n",
    "bob_bits = []\n",
    "\n",
    "# We will create lists to store wheteher Alice/Bob used H.\n",
    "# If they do, we add \"True\", otherwise we add \"False\".\n",
    "alice_used_h = []\n",
    "bob_used_h = []"
   ]
  },
  {
   "cell_type": "code",
   "execution_count": 28,
   "id": "91675d94-d6ea-4f9e-9bc9-001e3c74bef9",
   "metadata": {},
   "outputs": [],
   "source": [
    "for bit in alice_bits:\n",
    "    circuit = QuantumCircuit(1)\n",
    "    # If we are going to send 1, we apply an X gate.\n",
    "    # Remember that the state is initialized to |0>.\n",
    "    if bit:\n",
    "        circuit.x(0)\n",
    "        \n",
    "    # Choose at random if Alice applies H, and do it.\n",
    "    alice_h = random.choice([True, False])\n",
    "    if alice_h:\n",
    "        circuit.h(0)\n",
    "        \n",
    "    # Apply a barrier and choose whether Bob does H, and do it.\n",
    "    circuit.barrier()\n",
    "    bob_h = random.choice([True, False])\n",
    "    if bob_h:\n",
    "        circuit.h(0)\n",
    "\n",
    "    # Measure the qubit (on Bob's end).\n",
    "    circuit.measure_all()\n",
    "    job = sampler.run([circuit], shots = 1)\n",
    "    bob_bit = int(job.result()[0].data.meas.get_bitstrings()[0])\n",
    "\n",
    "    # Add the measured bit to bob_bits and record who used H.\n",
    "    bob_bits.append(bob_bit)\n",
    "    alice_used_h.append(alice_h)\n",
    "    bob_used_h.append(bob_h)"
   ]
  },
  {
   "cell_type": "code",
   "execution_count": 29,
   "id": "4f92a792-d860-4862-bf65-fe99e3e707ad",
   "metadata": {},
   "outputs": [],
   "source": [
    "# List of indices where Alice and Bob agree on whether to apply H.\n",
    "agree = [i for i in range(len(alice_bits)) if alice_bits[i] == bob_bits[i]]"
   ]
  },
  {
   "cell_type": "code",
   "execution_count": 30,
   "id": "c125050b-5b0b-48a6-ae71-18c89f205ac5",
   "metadata": {},
   "outputs": [
    {
     "name": "stdout",
     "output_type": "stream",
     "text": [
      "[0, 0, 1, 1, 0, 0, 1, 0]\n",
      "[0, 0, 1, 1, 0, 0, 1, 0]\n"
     ]
    }
   ],
   "source": [
    "# Get the sent/received bits when they agree on applying H.\n",
    "alice = [alice_bits[i] for i in agree]\n",
    "bob = [bob_bits[i] for i in agree]\n",
    "\n",
    "print(alice)\n",
    "print(bob)"
   ]
  }
 ],
 "metadata": {
  "kernelspec": {
   "display_name": "Python 3 (ipykernel)",
   "language": "python",
   "name": "python3"
  },
  "language_info": {
   "codemirror_mode": {
    "name": "ipython",
    "version": 3
   },
   "file_extension": ".py",
   "mimetype": "text/x-python",
   "name": "python",
   "nbconvert_exporter": "python",
   "pygments_lexer": "ipython3",
   "version": "3.11.2"
  }
 },
 "nbformat": 4,
 "nbformat_minor": 5
}
