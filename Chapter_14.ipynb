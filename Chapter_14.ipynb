{
 "cells": [
  {
   "cell_type": "code",
   "execution_count": null,
   "id": "67e909c6-2837-423b-be27-1c4429ea823a",
   "metadata": {},
   "outputs": [],
   "source": [
    "pip install qiskit==2.1"
   ]
  },
  {
   "cell_type": "code",
   "execution_count": null,
   "id": "6f30d2c6-38c7-4754-923b-eddbcdcaa042",
   "metadata": {},
   "outputs": [],
   "source": [
    "pip install qiskit_aer==0.17"
   ]
  },
  {
   "cell_type": "code",
   "execution_count": null,
   "id": "43e2812b-2509-42ba-8232-fade990726ac",
   "metadata": {},
   "outputs": [],
   "source": [
    "pip install qiskit_ibm_runtime==0.40"
   ]
  },
  {
   "cell_type": "code",
   "execution_count": null,
   "id": "0aa1a4c5-bd08-4174-8ee0-3cc3c37c0e68",
   "metadata": {},
   "outputs": [],
   "source": [
    "pip install numpy==2.2"
   ]
  },
  {
   "cell_type": "code",
   "execution_count": null,
   "id": "df77a570-62cd-4910-9f78-82a51e456790",
   "metadata": {},
   "outputs": [],
   "source": [
    "pip install pylatexenc==2.10"
   ]
  },
  {
   "cell_type": "code",
   "execution_count": null,
   "id": "897836e6-0040-4606-a002-2db32e9ecb46",
   "metadata": {},
   "outputs": [],
   "source": [
    "pip install matplotlib==3.10"
   ]
  },
  {
   "cell_type": "markdown",
   "id": "f90016b9-996c-4f46-8437-4a050204266c",
   "metadata": {},
   "source": [
    "# Chapter 14. Quantum Error Correction and Fault Tolerance"
   ]
  },
  {
   "cell_type": "markdown",
   "id": "9b9ecc2e-a862-4712-9f88-aa79f9fd88ad",
   "metadata": {},
   "source": [
    "## 14.3. Implementing the Shor code in Qiskit"
   ]
  },
  {
   "cell_type": "code",
   "execution_count": 1,
   "id": "b6dfdf18-b93d-4069-aaf3-3ad73031873f",
   "metadata": {},
   "outputs": [],
   "source": [
    "from qiskit import QuantumCircuit"
   ]
  },
  {
   "cell_type": "code",
   "execution_count": 2,
   "id": "dfc39ab2-ea92-4817-aa8a-54f0e8e2494f",
   "metadata": {},
   "outputs": [],
   "source": [
    "def ShorCode(qc, noise):\n",
    "    qc.barrier()\n",
    "    \n",
    "    # Encoding\n",
    "    qc.cx(0, 3)\n",
    "    qc.cx(0, 6)\n",
    "    for qubit in [0,3,6]:\n",
    "        qc.h(qubit)\n",
    "        qc.cx(qubit, qubit + 1)\n",
    "        qc.cx(qubit, qubit + 2)\n",
    "\n",
    "    # Noisy channel\n",
    "    qc.barrier()\n",
    "    noise(qc)\n",
    "    qc.barrier()\n",
    "\n",
    "    # Error correction\n",
    "    for qubit in [0,3,6]:\n",
    "        qc.cx(qubit, qubit + 1)\n",
    "        qc.cx(qubit, qubit + 2)\n",
    "        qc.ccx(qubit + 2, qubit + 1, qubit)\n",
    "        qc.h(qubit)\n",
    "    qc.cx(0, 3)\n",
    "    qc.cx(0, 6)\n",
    "    qc.ccx(6, 3, 0)\n"
   ]
  },
  {
   "cell_type": "code",
   "execution_count": 3,
   "id": "9effa3b8-2747-4ea5-ab03-4d210bc6c225",
   "metadata": {},
   "outputs": [],
   "source": [
    "qc = QuantumCircuit(9)                 # Initialize the circuit.\n",
    "qc.h(0)                                # Prepare the input state.\n",
    "ShorCode(qc, lambda qc: qc.z(2))    # Apply the code with noise."
   ]
  },
  {
   "cell_type": "code",
   "execution_count": 4,
   "id": "d8c0dfae-283c-4332-96ed-a47287e77993",
   "metadata": {},
   "outputs": [],
   "source": [
    "qc.draw(output=\"mpl\")\n",
    "draw = qc.draw(output=\"mpl\")\n",
    "draw.savefig(\"qiskit-shorc.pdf\")"
   ]
  },
  {
   "cell_type": "code",
   "execution_count": 5,
   "id": "07d6805f-358f-4ddf-9df5-9c4613e23e37",
   "metadata": {},
   "outputs": [],
   "source": [
    "from qiskit.quantum_info import Statevector\n",
    "statevector = Statevector(qc)"
   ]
  },
  {
   "cell_type": "code",
   "execution_count": 6,
   "id": "eacef0cb-2cd1-47a5-87dc-88a353a2f247",
   "metadata": {},
   "outputs": [
    {
     "name": "stdout",
     "output_type": "stream",
     "text": [
      "(0.7071067811865471+0j) |000100100>\n",
      "(0.7071067811865471+0j) |100100100>\n"
     ]
    }
   ],
   "source": [
    "from numpy import isclose\n",
    "\n",
    "for index, value in enumerate(statevector):\n",
    "    if not isclose(value, 0):\n",
    "        # Use bin to get a binary string for the index.\n",
    "        # Remove the first two characters (which are '0b').\n",
    "        index_string = bin(index)[2:]\n",
    "\n",
    "        # Add leading zeros.\n",
    "        index_string = index_string.zfill(9)\n",
    "\n",
    "        # Flip the string (to account for Qiskit's conventions).\n",
    "        index_string = index_string[::-1]\n",
    "        \n",
    "        print(f\"{value} |{index_string}>\")"
   ]
  },
  {
   "cell_type": "code",
   "execution_count": 7,
   "id": "7595ab08-48ca-47f7-9f37-ce133b5192f8",
   "metadata": {},
   "outputs": [
    {
     "name": "stdout",
     "output_type": "stream",
     "text": [
      "(-0.294260250091814+0j) |000000000>\n",
      "(-0.294260250091814+0j) |100000000>\n",
      "(0.6429703766239176+0j) |000111000>\n",
      "(0.6429703766239176+0j) |100111000>\n"
     ]
    }
   ],
   "source": [
    "qc = QuantumCircuit(9)\n",
    "qc.h(0)\n",
    "# Here we use a different error:\n",
    "ShorCode(qc, lambda qc: qc.ry(4,3))\n",
    "statevector = Statevector(qc)\n",
    "\n",
    "for index, value in enumerate(statevector):\n",
    "    if not isclose(value, 0):\n",
    "        index_binary = bin(index)[2:]\n",
    "        index_string = index_binary.zfill(9)\n",
    "        index_string = index_string[::-1]\n",
    "        print(f\"{value} |{index_string}>\")"
   ]
  }
 ],
 "metadata": {
  "kernelspec": {
   "display_name": "Python 3 (ipykernel)",
   "language": "python",
   "name": "python3"
  },
  "language_info": {
   "codemirror_mode": {
    "name": "ipython",
    "version": 3
   },
   "file_extension": ".py",
   "mimetype": "text/x-python",
   "name": "python",
   "nbconvert_exporter": "python",
   "pygments_lexer": "ipython3",
   "version": "3.11.2"
  }
 },
 "nbformat": 4,
 "nbformat_minor": 5
}
