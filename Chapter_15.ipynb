{
 "cells": [
  {
   "cell_type": "code",
   "execution_count": null,
   "id": "67e909c6-2837-423b-be27-1c4429ea823a",
   "metadata": {},
   "outputs": [],
   "source": [
    "pip install qiskit==2.1"
   ]
  },
  {
   "cell_type": "code",
   "execution_count": null,
   "id": "6f30d2c6-38c7-4754-923b-eddbcdcaa042",
   "metadata": {},
   "outputs": [],
   "source": [
    "pip install qiskit_aer==0.17"
   ]
  },
  {
   "cell_type": "code",
   "execution_count": null,
   "id": "43e2812b-2509-42ba-8232-fade990726ac",
   "metadata": {},
   "outputs": [],
   "source": [
    "pip install qiskit_ibm_runtime==0.40"
   ]
  },
  {
   "cell_type": "code",
   "execution_count": null,
   "id": "0aa1a4c5-bd08-4174-8ee0-3cc3c37c0e68",
   "metadata": {},
   "outputs": [],
   "source": [
    "pip install numpy==2.2"
   ]
  },
  {
   "cell_type": "code",
   "execution_count": null,
   "id": "df77a570-62cd-4910-9f78-82a51e456790",
   "metadata": {},
   "outputs": [],
   "source": [
    "pip install pylatexenc==2.10"
   ]
  },
  {
   "cell_type": "code",
   "execution_count": null,
   "id": "897836e6-0040-4606-a002-2db32e9ecb46",
   "metadata": {},
   "outputs": [],
   "source": [
    "pip install matplotlib==3.10"
   ]
  },
  {
   "cell_type": "markdown",
   "id": "f90016b9-996c-4f46-8437-4a050204266c",
   "metadata": {},
   "source": [
    "# Chapter 15. Experiments for quantum advantage"
   ]
  },
  {
   "cell_type": "markdown",
   "id": "9b9ecc2e-a862-4712-9f88-aa79f9fd88ad",
   "metadata": {},
   "source": [
    "## 15.1. Random circuit sampling"
   ]
  },
  {
   "cell_type": "code",
   "execution_count": 1,
   "id": "b6dfdf18-b93d-4069-aaf3-3ad73031873f",
   "metadata": {},
   "outputs": [
    {
     "name": "stdout",
     "output_type": "stream",
     "text": [
      "[[-0.65182701+0.35104045j -0.06872086+0.66870741j]\n",
      " [ 0.30111103-0.60101938j  0.3613751 +0.64615469j]]\n"
     ]
    }
   ],
   "source": [
    "from qiskit.quantum_info import random_unitary\n",
    "\n",
    "U = random_unitary(2, seed = 1234).to_matrix()\n",
    "print(U)"
   ]
  },
  {
   "cell_type": "code",
   "execution_count": 2,
   "id": "dfc39ab2-ea92-4817-aa8a-54f0e8e2494f",
   "metadata": {},
   "outputs": [],
   "source": [
    "import numpy as np\n",
    "\n",
    "np.random.seed(1234)\n",
    "n = 10\n",
    "n_unitaries = 1000 # Number of unitaries we receive\n",
    "n_samples = 100 # Number of strings to sample\n",
    "\n",
    "p_r = [] # Probabilities according to U of the sampled strings \n",
    "\n",
    "for i in range(n_unitaries):\n",
    "\n",
    "    U = random_unitary(2**n, seed = 1234 + i).to_matrix()\n",
    "    probs = abs(U[:,0])**2\n",
    "\n",
    "    for j in range(n_samples):\n",
    "        r = np.random.randint(0,2**n)\n",
    "        p_r.append(probs[r])"
   ]
  },
  {
   "cell_type": "code",
   "execution_count": 3,
   "id": "9effa3b8-2747-4ea5-ab03-4d210bc6c225",
   "metadata": {},
   "outputs": [
    {
     "data": {
      "image/png": "[encoded data removed]",
      "text/plain": [
       "<Figure size 640x480 with 1 Axes>"
      ]
     },
     "metadata": {},
     "output_type": "display_data"
    }
   ],
   "source": [
    "%matplotlib inline\n",
    "import matplotlib.pyplot as plt\n",
    "\n",
    "plt.hist(p_r, bins = 100)\n",
    "plt.show()"
   ]
  },
  {
   "cell_type": "code",
   "execution_count": 4,
   "id": "d8c0dfae-283c-4332-96ed-a47287e77993",
   "metadata": {},
   "outputs": [
    {
     "data": {
      "image/png": "[encoded data removed]",
      "text/plain": [
       "<Figure size 640x480 with 1 Axes>"
      ]
     },
     "metadata": {},
     "output_type": "display_data"
    }
   ],
   "source": [
    "p_s = [] # Probabilities according to U of the sampled strings \n",
    "\n",
    "for i in range(n_unitaries):\n",
    "\n",
    "    U = random_unitary(2**n, seed = 1234 + i).to_matrix()\n",
    "    probs = abs(U[:,0])**2\n",
    "\n",
    "    for j in range(n_samples):\n",
    "        s = np.random.choice(2**n, p = probs) # Sample s according to probs\n",
    "        p_s.append(probs[s])\n",
    "\n",
    "plt.hist(p_s, bins = 100)\n",
    "plt.show()"
   ]
  },
  {
   "cell_type": "code",
   "execution_count": 5,
   "id": "07d6805f-358f-4ddf-9df5-9c4613e23e37",
   "metadata": {},
   "outputs": [
    {
     "name": "stdout",
     "output_type": "stream",
     "text": [
      "Average probability of uniformly sampled strings: 0.000976\n",
      "Average probability of strings sampled according to U: 0.001948\n"
     ]
    }
   ],
   "source": [
    "a_r = round(np.mean(p_r),6)\n",
    "a_s = round(np.mean(p_s),6)\n",
    "print(\"Average probability of uniformly sampled strings:\", a_r)\n",
    "print(\"Average probability of strings sampled according to U:\", a_s)"
   ]
  },
  {
   "cell_type": "code",
   "execution_count": 6,
   "id": "eacef0cb-2cd1-47a5-87dc-88a353a2f247",
   "metadata": {},
   "outputs": [
    {
     "name": "stdout",
     "output_type": "stream",
     "text": [
      "FXEB of uniformly sampled strings: -0.001\n",
      "FXEB probability of strings sampled according to U: 0.995\n"
     ]
    }
   ],
   "source": [
    "fxeb_r = round(2**n*np.mean(p_r)-1,3)\n",
    "fxeb_s = round(2**n*np.mean(p_s)-1,3)\n",
    "print(\"FXEB of uniformly sampled strings:\", fxeb_r)\n",
    "print(\"FXEB probability of strings sampled according to U:\", fxeb_s)"
   ]
  },
  {
   "cell_type": "code",
   "execution_count": 7,
   "id": "7595ab08-48ca-47f7-9f37-ce133b5192f8",
   "metadata": {},
   "outputs": [
    {
     "name": "stdout",
     "output_type": "stream",
     "text": [
      "FXEB 1.04\n"
     ]
    }
   ],
   "source": [
    "from qiskit_aer.primitives import SamplerV2 as Sampler\n",
    "from qiskit.transpiler.preset_passmanagers import generate_preset_pass_manager\n",
    "from qiskit_aer import AerSimulator\n",
    "from qiskit.circuit.random import random_circuit\n",
    "from qiskit.quantum_info import Statevector\n",
    "\n",
    "backend = AerSimulator()\n",
    "sampler = Sampler(seed = 1234)\n",
    "\n",
    "p_c = [] # Probabilities according to U of the sampled strings\n",
    "\n",
    "n_circuits = 1000\n",
    "n_samples = 100\n",
    "n = 10\n",
    "n_layers = 1000\n",
    "\n",
    "for i in range(n_circuits):\n",
    "\n",
    "    circ = random_circuit(num_qubits = n, depth = n_layers, seed = 1234 + i,\n",
    "                          max_operands = 2, measure = True)\n",
    "    pm = generate_preset_pass_manager(backend=backend, optimization_level=1)\n",
    "    t_circ = pm.run(circ)\n",
    "    job = sampler.run([t_circ], shots = n_samples)\n",
    "    results = job.result()\n",
    "    d = results[0].data.c\n",
    "    v_s = [int(s,2) for s in d.get_bitstrings()]\n",
    "    circ.remove_final_measurements()\n",
    "    sv = Statevector(circ)\n",
    "    for s in v_s:\n",
    "      p_c.append(abs(sv[int(s)])**2)\n",
    "\n",
    "print(\"FXEB\", round((2**n)*np.mean(p_c)-1,3))"
   ]
  },
  {
   "cell_type": "code",
   "execution_count": 8,
   "id": "0b5556f6-98b6-4f4c-be7c-fbc536bc6bc4",
   "metadata": {},
   "outputs": [],
   "source": [
    "from qiskit_aer.noise import NoiseModel, pauli_error\n",
    "\n",
    "noise = NoiseModel()\n",
    "p_error = 0.02\n",
    "error_meas = pauli_error([(\"X\", p_error), (\"I\", 1 - p_error)])\n",
    "noise.add_all_qubit_quantum_error(error_meas , \"measure\")\n",
    "\n",
    "noise_options = {\"backend_options\": {\"noise_model\": noise}}\n",
    "\n",
    "sampler = Sampler(seed = 1234, options = noise_options)\n",
    "\n",
    "p_c = [] # Probabilities according to U of the sampled strings"
   ]
  }
 ],
 "metadata": {
  "kernelspec": {
   "display_name": "Python 3 (ipykernel)",
   "language": "python",
   "name": "python3"
  },
  "language_info": {
   "codemirror_mode": {
    "name": "ipython",
    "version": 3
   },
   "file_extension": ".py",
   "mimetype": "text/x-python",
   "name": "python",
   "nbconvert_exporter": "python",
   "pygments_lexer": "ipython3",
   "version": "3.11.2"
  }
 },
 "nbformat": 4,
 "nbformat_minor": 5
}
