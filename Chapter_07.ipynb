{
 "cells": [
  {
   "cell_type": "code",
   "execution_count": null,
   "id": "8d2104dd-5bf1-4b4f-a1bf-f1911a830904",
   "metadata": {},
   "outputs": [],
   "source": [
    "pip install qiskit==2.0"
   ]
  },
  {
   "cell_type": "code",
   "execution_count": null,
   "id": "909e14ab-5986-428b-957f-28f5de5a392a",
   "metadata": {},
   "outputs": [],
   "source": [
    "pip install qiskit_aer==0.17"
   ]
  },
  {
   "cell_type": "code",
   "execution_count": null,
   "id": "87416cd7-26c2-427b-ae6b-9c16bd203609",
   "metadata": {},
   "outputs": [],
   "source": [
    "pip install qiskit_ibm_runtime==0.38"
   ]
  },
  {
   "cell_type": "code",
   "execution_count": null,
   "id": "d1417e07-3dae-427b-a7c1-56ed62ebf009",
   "metadata": {},
   "outputs": [],
   "source": [
    "pip install numpy==2.2"
   ]
  },
  {
   "cell_type": "code",
   "execution_count": null,
   "id": "2a74d66b-321b-443e-8cf7-45d2f6047c90",
   "metadata": {},
   "outputs": [],
   "source": [
    "pip install pylatexenc==2.10"
   ]
  },
  {
   "cell_type": "code",
   "execution_count": null,
   "id": "d884d285-d518-4db9-bd89-074d80f9b178",
   "metadata": {},
   "outputs": [],
   "source": [
    "pip install matplotlib==3.9"
   ]
  },
  {
   "cell_type": "markdown",
   "id": "fd849b13-80eb-4096-ac2a-0aa3cc03af72",
   "metadata": {},
   "source": [
    "# Chapter 7. Coding Two-Qubit Algorithms in Qiskit"
   ]
  },
  {
   "cell_type": "markdown",
   "id": "02020bed-f9ef-4828-89e3-71ffd0f8c8eb",
   "metadata": {},
   "source": [
    "## 7.2. Working with two qubits in Qiskit"
   ]
  },
  {
   "cell_type": "code",
   "execution_count": 1,
   "id": "66930a0b-875b-4ed3-9551-2bfd1b2894b9",
   "metadata": {},
   "outputs": [],
   "source": [
    "from qiskit import QuantumCircuit\n",
    "\n",
    "circuit = QuantumCircuit(2)   "
   ]
  },
  {
   "cell_type": "code",
   "execution_count": 2,
   "id": "20767fdb-4f73-4892-8733-9ef1587c0a48",
   "metadata": {},
   "outputs": [
    {
     "data": {
      "text/plain": [
       "<qiskit.circuit.instructionset.InstructionSet at 0x7f204dcbec80>"
      ]
     },
     "execution_count": 2,
     "metadata": {},
     "output_type": "execute_result"
    }
   ],
   "source": [
    "circuit.h(0)\n",
    "circuit.x(1)"
   ]
  },
  {
   "cell_type": "code",
   "execution_count": 3,
   "id": "9ea26343-ff7c-4277-90b4-2e3d5abe54bc",
   "metadata": {},
   "outputs": [
    {
     "data": {
      "image/png": "[encoded data removed]",
      "text/plain": [
       "<Figure size 203.683x200.667 with 1 Axes>"
      ]
     },
     "execution_count": 3,
     "metadata": {},
     "output_type": "execute_result"
    }
   ],
   "source": [
    "circuit.draw(\"mpl\")"
   ]
  },
  {
   "cell_type": "code",
   "execution_count": 4,
   "id": "3c8d5429-8f96-4562-ac1e-1484e1a67ac8",
   "metadata": {},
   "outputs": [
    {
     "name": "stdout",
     "output_type": "stream",
     "text": [
      "{'11': 5, '10': 3}\n"
     ]
    }
   ],
   "source": [
    "circuit.measure_all()\n",
    "\n",
    "from qiskit_aer import AerSimulator\n",
    "backend = AerSimulator(seed_simulator = 18620123)\n",
    "\n",
    "from qiskit_ibm_runtime import SamplerV2 as Sampler\n",
    "sampler = Sampler(backend)\n",
    "\n",
    "job = sampler.run([circuit], shots = 8)\n",
    "result = job.result()[0].data.meas \n",
    "\n",
    "print(result.get_counts())"
   ]
  },
  {
   "cell_type": "code",
   "execution_count": 5,
   "id": "f636cd5d-0763-441e-b0cd-aa678ea01e0a",
   "metadata": {},
   "outputs": [
    {
     "name": "stdout",
     "output_type": "stream",
     "text": [
      "['11', '10', '11', '10', '11', '11', '11', '10']\n"
     ]
    }
   ],
   "source": [
    "print(result.get_bitstrings())"
   ]
  },
  {
   "cell_type": "code",
   "execution_count": 6,
   "id": "d60c39eb-52a0-4ada-a1ef-c5b98598b43e",
   "metadata": {},
   "outputs": [
    {
     "name": "stdout",
     "output_type": "stream",
     "text": [
      "[[3]\n",
      " [2]\n",
      " [3]\n",
      " [2]\n",
      " [3]\n",
      " [3]\n",
      " [3]\n",
      " [2]]\n"
     ]
    }
   ],
   "source": [
    "print(result.array)"
   ]
  },
  {
   "cell_type": "code",
   "execution_count": 7,
   "id": "48655bcc-489a-42e7-a8ba-ca13adc7640f",
   "metadata": {},
   "outputs": [
    {
     "name": "stdout",
     "output_type": "stream",
     "text": [
      "Statevector([0.        +0.j, 0.        +0.j, 0.70710678+0.j,\n",
      "             0.70710678+0.j],\n",
      "            dims=(2, 2))\n"
     ]
    }
   ],
   "source": [
    "circuit.remove_final_measurements()\n",
    "\n",
    "from qiskit.quantum_info import Statevector\n",
    "\n",
    "state = Statevector(circuit)\n",
    "print(state)"
   ]
  },
  {
   "cell_type": "code",
   "execution_count": 8,
   "id": "36c09593-da6d-464e-9a2c-1cc1c2c806c2",
   "metadata": {},
   "outputs": [
    {
     "data": {
      "text/plain": [
       "<qiskit.circuit.instructionset.InstructionSet at 0x7f202662b8b0>"
      ]
     },
     "execution_count": 8,
     "metadata": {},
     "output_type": "execute_result"
    }
   ],
   "source": [
    "circuit = QuantumCircuit(2) \n",
    "\n",
    "circuit.h(0)\n",
    "circuit.cx(0,1)"
   ]
  },
  {
   "cell_type": "code",
   "execution_count": 9,
   "id": "982766d8-9562-406b-83c1-a45054a90d3c",
   "metadata": {},
   "outputs": [
    {
     "data": {
      "image/png": "[encoded data removed]",
      "text/plain": [
       "<Figure size 287.294x200.667 with 1 Axes>"
      ]
     },
     "execution_count": 9,
     "metadata": {},
     "output_type": "execute_result"
    }
   ],
   "source": [
    "circuit.draw(\"mpl\")"
   ]
  },
  {
   "cell_type": "markdown",
   "id": "9e421bc1-fcbe-4f19-9007-fd750401b54e",
   "metadata": {},
   "source": [
    "## 7.2 Superdense coding"
   ]
  },
  {
   "cell_type": "code",
   "execution_count": 10,
   "id": "9f8122ca-8da6-4306-8ee1-72864fd8ac79",
   "metadata": {},
   "outputs": [
    {
     "data": {
      "text/plain": [
       "CircuitInstruction(operation=Instruction(name='barrier', num_qubits=2, num_clbits=0, params=[]), qubits=(<Qubit register=(2, \"q\"), index=0>, <Qubit register=(2, \"q\"), index=1>), clbits=())"
      ]
     },
     "execution_count": 10,
     "metadata": {},
     "output_type": "execute_result"
    }
   ],
   "source": [
    "circuit = QuantumCircuit(2) \n",
    "# Bell state preparation\n",
    "circuit.h(0)\n",
    "circuit.cx(0,1)\n",
    "\n",
    "circuit.barrier()"
   ]
  },
  {
   "cell_type": "code",
   "execution_count": 11,
   "id": "b214dfd4-c5be-472e-88a7-d51f70b43688",
   "metadata": {},
   "outputs": [
    {
     "data": {
      "text/plain": [
       "CircuitInstruction(operation=Instruction(name='barrier', num_qubits=2, num_clbits=0, params=[]), qubits=(<Qubit register=(2, \"q\"), index=0>, <Qubit register=(2, \"q\"), index=1>), clbits=())"
      ]
     },
     "execution_count": 11,
     "metadata": {},
     "output_type": "execute_result"
    }
   ],
   "source": [
    "b1 = 1\n",
    "b2 = 0\n",
    "\n",
    "# Alice's ops (in reverse because of Qiskit coding)\n",
    "\n",
    "if b1:\n",
    "    circuit.x(0)\n",
    "if b2:\n",
    "    circuit.z(0)\n",
    "\n",
    "circuit.barrier() # Qubit sent to Bob"
   ]
  },
  {
   "cell_type": "code",
   "execution_count": 12,
   "id": "2d55d11e-fc73-4e6b-b2de-61d93617afab",
   "metadata": {},
   "outputs": [],
   "source": [
    "circuit.cx(0,1)\n",
    "circuit.h(0)\n",
    "circuit.measure_all()"
   ]
  },
  {
   "cell_type": "code",
   "execution_count": 13,
   "id": "dc505709-2155-4968-a366-7675e6995b17",
   "metadata": {},
   "outputs": [
    {
     "data": {
      "image/png": "[encoded data removed]",
      "text/plain": [
       "<Figure size 998.442x284.278 with 1 Axes>"
      ]
     },
     "execution_count": 13,
     "metadata": {},
     "output_type": "execute_result"
    }
   ],
   "source": [
    "circuit.draw(\"mpl\")"
   ]
  },
  {
   "cell_type": "markdown",
   "id": "37c44447-db76-4cc2-bbca-e8fe1cc086c9",
   "metadata": {},
   "source": [
    "## 7.3 The CHSH game"
   ]
  },
  {
   "cell_type": "code",
   "execution_count": 14,
   "id": "f0d51db4-bf7e-43f7-a002-9cbde03b25c2",
   "metadata": {},
   "outputs": [],
   "source": [
    "import numpy as np\n",
    "\n",
    "seed = 1234\n",
    "np.random.seed(seed)\n",
    "reps = 1000\n",
    "\n",
    "x = np.random.randint(2, size = reps)\n",
    "y = np.random.randint(2, size = reps)"
   ]
  },
  {
   "cell_type": "code",
   "execution_count": 15,
   "id": "e36e81e2-ab02-4981-b5fd-a4cbc7f99ff6",
   "metadata": {},
   "outputs": [],
   "source": [
    "circuit_list = []\n",
    "\n",
    "for i in range(reps):\n",
    "\n",
    "    circuit = QuantumCircuit(2)\n",
    "\n",
    "    # Bell state preparation\n",
    "    circuit.h(0)\n",
    "    circuit.cx(0,1)\n",
    "\n",
    "    circuit.barrier() \n",
    "  \n",
    "    # Alice and Bob's ops\n",
    "\n",
    "    if x[i] == 1:\n",
    "        circuit.ry(np.pi/2,0)\n",
    "    if y[i] == 0:\n",
    "        circuit.ry(np.pi/4,1)\n",
    "    else:\n",
    "        circuit.ry(-np.pi/4,1)\n",
    "    circuit.measure_all()\n",
    "\n",
    "    circuit_list.append(circuit)"
   ]
  },
  {
   "cell_type": "code",
   "execution_count": 16,
   "id": "d9ee7638-7936-4728-82b6-680fdc1aa7dd",
   "metadata": {},
   "outputs": [
    {
     "name": "stdout",
     "output_type": "stream",
     "text": [
      "Win percentage: 85.9\n"
     ]
    }
   ],
   "source": [
    "sampler = Sampler(AerSimulator(seed_simulator = seed))\n",
    "\n",
    "job = sampler.run(circuit_list, shots = 1)\n",
    "results = job.result()\n",
    "\n",
    "wins = 0\n",
    "\n",
    "for i in range(reps):\n",
    "    bits = results[i].data.meas.get_bitstrings() \n",
    "    a = int(bits[0][1])\n",
    "    b = int(bits[0][0])\n",
    "\n",
    "    if x[i]*y[i] == 0:\n",
    "        if a == b:\n",
    "            wins+=1\n",
    "    else:\n",
    "        if a != b:\n",
    "            wins += 1\n",
    "\n",
    "print(\"Win percentage:\", 100*wins/reps)"
   ]
  },
  {
   "cell_type": "markdown",
   "id": "44ad29f5-f679-4b85-8769-6ebd80059718",
   "metadata": {},
   "source": [
    "## 4.3 Deutsch's algorithm"
   ]
  },
  {
   "cell_type": "code",
   "execution_count": 17,
   "id": "9209a27a-6309-49f2-919d-8f23f9fea527",
   "metadata": {},
   "outputs": [
    {
     "data": {
      "text/plain": [
       "<qiskit.circuit.instructionset.InstructionSet at 0x7f202434f4f0>"
      ]
     },
     "execution_count": 17,
     "metadata": {},
     "output_type": "execute_result"
    }
   ],
   "source": [
    "circuit = QuantumCircuit(2,1)\n",
    "circuit.h(0)\n",
    "circuit.x(1)\n",
    "circuit.h(1)\n",
    "\n",
    "circuit.barrier()\n",
    "\n",
    "# PLACE YOUR ORACLE HERE\n",
    "circuit.x(0)\n",
    "circuit.cx(0,1)\n",
    "circuit.x(0)\n",
    "\n",
    "circuit.barrier()\n",
    "\n",
    "circuit.h(0)\n",
    "circuit.measure([0],[0])"
   ]
  },
  {
   "cell_type": "code",
   "execution_count": 18,
   "id": "978ed65d-cf4d-4891-b883-9bd0d295d79c",
   "metadata": {},
   "outputs": [
    {
     "data": {
      "image/png": "[encoded data removed]",
      "text/plain": [
       "<Figure size 872.572x284.278 with 1 Axes>"
      ]
     },
     "execution_count": 18,
     "metadata": {},
     "output_type": "execute_result"
    }
   ],
   "source": [
    "circuit.draw(\"mpl\")"
   ]
  },
  {
   "cell_type": "code",
   "execution_count": 19,
   "id": "c361c7ec-5c22-478a-b243-d3c02c29a270",
   "metadata": {},
   "outputs": [
    {
     "name": "stdout",
     "output_type": "stream",
     "text": [
      "{'1': 8}\n"
     ]
    }
   ],
   "source": [
    "backend = AerSimulator(seed_simulator = 18620123)\n",
    "sampler = Sampler(backend)\n",
    "\n",
    "job = sampler.run([circuit], shots = 8)\n",
    "result = job.result()[0].data.c \n",
    "\n",
    "print(result.get_counts())"
   ]
  },
  {
   "cell_type": "code",
   "execution_count": null,
   "id": "2411780e-a699-4bc6-b9f3-d783716bbcbd",
   "metadata": {},
   "outputs": [],
   "source": []
  }
 ],
 "metadata": {
  "kernelspec": {
   "display_name": "Python 3 (ipykernel)",
   "language": "python",
   "name": "python3"
  },
  "language_info": {
   "codemirror_mode": {
    "name": "ipython",
    "version": 3
   },
   "file_extension": ".py",
   "mimetype": "text/x-python",
   "name": "python",
   "nbconvert_exporter": "python",
   "pygments_lexer": "ipython3",
   "version": "3.11.2"
  }
 },
 "nbformat": 4,
 "nbformat_minor": 5
}
